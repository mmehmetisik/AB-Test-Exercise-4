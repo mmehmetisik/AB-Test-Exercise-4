{
 "cells": [
  {
   "cell_type": "markdown",
   "id": "2bdd7455",
   "metadata": {
    "papermill": {
     "duration": 0.008287,
     "end_time": "2023-06-20T20:33:13.308797",
     "exception": false,
     "start_time": "2023-06-20T20:33:13.300510",
     "status": "completed"
    },
    "tags": []
   },
   "source": [
    "![AB Testing](https://img.freepik.com/premium-vector/adobe-illustrator-artwork_100456-9502.jpg?w=1380)"
   ]
  },
  {
   "cell_type": "markdown",
   "id": "00441c74",
   "metadata": {
    "papermill": {
     "duration": 0.008102,
     "end_time": "2023-06-20T20:33:13.324856",
     "exception": false,
     "start_time": "2023-06-20T20:33:13.316754",
     "status": "completed"
    },
    "tags": []
   },
   "source": [
    "# WHAT IS THE AB TESTING ?\n",
    "\n",
    "A/B testing, also known as split testing, is a method of comparing two variants(A and B) to determine which one performs better. In A/B testing, two variants (A and B) are created with one element of the design or content being different between the two variants. The two versions are then shown randomly to users, and their behavior is monitored and compared to determine which variant performs better based on a predefined goal, such as the conversion rate, click-through rate, or engagement rate.\n",
    "\n",
    "A/B testing is commonly used in website optimization, digital marketing, and product development to determine which variant is more effective at achieving a specific goal. It helps businesses make data-driven decisions by providing insight into what resonates better with their audience and what changes can be made to improve the user experience and increase conversions."
   ]
  },
  {
   "cell_type": "markdown",
   "id": "96f06cee",
   "metadata": {
    "papermill": {
     "duration": 0.007501,
     "end_time": "2023-06-20T20:33:13.340224",
     "exception": false,
     "start_time": "2023-06-20T20:33:13.332723",
     "status": "completed"
    },
    "tags": []
   },
   "source": [
    "# Hypothesis Testing\n",
    "\n",
    "Hypothesis tests are analytical tools used as a statistical method. These tests aim to test a hypothesis (claim) about a population using sample data. Hypothesis tests help us make inferences about whether a hypothesis is true or not by collecting statistical evidence.\n",
    "\n",
    "Generally, two hypotheses are formulated: the null hypothesis (H0) and the alternative hypothesis (H1 or HA). The null hypothesis represents the existing condition or the accepted assumptions, while the alternative hypothesis claims a specific change or effect.\n",
    "\n",
    "Hypothesis tests can be categorized into the following types:\n",
    "\n",
    "- **One-Sample T Test:** Used to test if the mean of a population is significantly different from a specific value.\n",
    "\n",
    "- **Independent Two-Sample T Test:** Used to test if there is a significant difference between the means of two independent groups.\n",
    "\n",
    "- **Paired Two-Sample T Test:** Used to test if there is a significant difference between the means of two related or paired groups.\n",
    "\n",
    "- **Analysis of Variance (ANOVA):** Used to test if there is a significant difference among the means of three or more groups.\n",
    "\n",
    "- **Chi-Square Test:** Used to test if there is a dependency or association between two categorical variables.\n",
    "\n",
    "- **Regression Analysis:** Used to analyze the relationship between dependent and independent variables.\n",
    "\n",
    "These are just some popular types of hypothesis tests, and there are many more methods available in statistics. Hypothesis tests are used in various fields, ranging from scientific research and marketing strategies to medical studies and industrial quality control processes. These tests enable us to make objective decisions based on data and evaluate statistical significance.\n",
    "\n",
    "- Hypothesis tests are statistical methods used to test a belief or proposition.\n",
    "\n",
    "- Within the scope of hypothesis testing, there are group comparisons.\n",
    "\n",
    "- The main objective in group comparisons is to determine whether observed differences are due to chance or if there is a genuine difference.\n",
    "\n",
    "**For example:**\n",
    "\n",
    "- Did the average daily usage time of users increase after a user interface change in a mobile application?\n",
    "\n",
    "- The result we obtain from this analysis, based on the sample we have, will help us determine if the observed outcome occurred by chance or if there is indeed a significant difference.\n",
    "\n",
    "- We will strive to understand this through statistical calculations and analysis. We will provide evidence to support our findings."
   ]
  },
  {
   "cell_type": "markdown",
   "id": "ac924275",
   "metadata": {
    "papermill": {
     "duration": 0.007459,
     "end_time": "2023-06-20T20:33:13.355605",
     "exception": false,
     "start_time": "2023-06-20T20:33:13.348146",
     "status": "completed"
    },
    "tags": []
   },
   "source": [
    "# A/B Testing (Independent Two-Sample T Test) (Comparing Two Group Means)"
   ]
  },
  {
   "cell_type": "markdown",
   "id": "89da5f7e",
   "metadata": {
    "papermill": {
     "duration": 0.008999,
     "end_time": "2023-06-20T20:33:13.372346",
     "exception": false,
     "start_time": "2023-06-20T20:33:13.363347",
     "status": "completed"
    },
    "tags": []
   },
   "source": [
    "# Road Map\n",
    "1. Set up Hypotheses\n",
    "2. Assumption Check\n",
    "    - 2.1. Assumption of Normality\n",
    "    - 2.2. Variance Homogeneity\n",
    "3. Implementation of the Hypothesis\n",
    "    - 3.1. If the assumptions are met, independent two sample t test (parametric test)\n",
    "    - 3.2.If assumptions are not met, mannwhitneyu test (non-parametric test)\n",
    "4. Interpret results according to p-value"
   ]
  },
  {
   "cell_type": "code",
   "execution_count": 1,
   "id": "a500cb0e",
   "metadata": {
    "execution": {
     "iopub.execute_input": "2023-06-20T20:33:13.390704Z",
     "iopub.status.busy": "2023-06-20T20:33:13.390259Z",
     "iopub.status.idle": "2023-06-20T20:33:15.568186Z",
     "shell.execute_reply": "2023-06-20T20:33:15.566944Z"
    },
    "papermill": {
     "duration": 2.191022,
     "end_time": "2023-06-20T20:33:15.571523",
     "exception": false,
     "start_time": "2023-06-20T20:33:13.380501",
     "status": "completed"
    },
    "tags": []
   },
   "outputs": [],
   "source": [
    "# import Required Libraries\n",
    "\n",
    "import itertools\n",
    "import numpy as np\n",
    "import pandas as pd\n",
    "import matplotlib.pyplot as plt\n",
    "import seaborn as sns\n",
    "import statsmodels.stats.api as sms\n",
    "from scipy.stats import ttest_1samp, shapiro, levene, ttest_ind, mannwhitneyu,pearsonr, spearmanr, kendalltau, f_oneway, kruskal\n",
    "from statsmodels.stats.proportion import proportions_ztest"
   ]
  },
  {
   "cell_type": "code",
   "execution_count": 2,
   "id": "8ff33a3f",
   "metadata": {
    "execution": {
     "iopub.execute_input": "2023-06-20T20:33:15.589350Z",
     "iopub.status.busy": "2023-06-20T20:33:15.588970Z",
     "iopub.status.idle": "2023-06-20T20:33:15.595001Z",
     "shell.execute_reply": "2023-06-20T20:33:15.593510Z"
    },
    "papermill": {
     "duration": 0.017887,
     "end_time": "2023-06-20T20:33:15.597449",
     "exception": false,
     "start_time": "2023-06-20T20:33:15.579562",
     "status": "completed"
    },
    "tags": []
   },
   "outputs": [],
   "source": [
    "# Adjusting Row Column Settings\n",
    "\n",
    "pd.set_option('display.max_columns', None)\n",
    "pd.set_option('display.max_rows', 10)\n",
    "pd.set_option('display.float_format', lambda x: '%.5f' % x)"
   ]
  },
  {
   "cell_type": "markdown",
   "id": "69d1bbd5",
   "metadata": {
    "papermill": {
     "duration": 0.007604,
     "end_time": "2023-06-20T20:33:15.612837",
     "exception": false,
     "start_time": "2023-06-20T20:33:15.605233",
     "status": "completed"
    },
    "tags": []
   },
   "source": [
    "# Exercise 4: Are the Scores Different for Those Who Followed the Majority of the Course and Those Who Did Not?"
   ]
  },
  {
   "cell_type": "code",
   "execution_count": 3,
   "id": "ddd50fd4",
   "metadata": {
    "execution": {
     "iopub.execute_input": "2023-06-20T20:33:15.630588Z",
     "iopub.status.busy": "2023-06-20T20:33:15.629769Z",
     "iopub.status.idle": "2023-06-20T20:33:15.672986Z",
     "shell.execute_reply": "2023-06-20T20:33:15.671790Z"
    },
    "papermill": {
     "duration": 0.055251,
     "end_time": "2023-06-20T20:33:15.675865",
     "exception": false,
     "start_time": "2023-06-20T20:33:15.620614",
     "status": "completed"
    },
    "tags": []
   },
   "outputs": [],
   "source": [
    "# Loading the Data Set\n",
    "\n",
    "df = pd.read_csv(\"/kaggle/input/course-reviewscsv/course_reviews.csv\")"
   ]
  },
  {
   "cell_type": "code",
   "execution_count": 4,
   "id": "51161070",
   "metadata": {
    "execution": {
     "iopub.execute_input": "2023-06-20T20:33:15.694146Z",
     "iopub.status.busy": "2023-06-20T20:33:15.693491Z",
     "iopub.status.idle": "2023-06-20T20:33:15.753399Z",
     "shell.execute_reply": "2023-06-20T20:33:15.752217Z"
    },
    "papermill": {
     "duration": 0.074027,
     "end_time": "2023-06-20T20:33:15.757942",
     "exception": false,
     "start_time": "2023-06-20T20:33:15.683915",
     "status": "completed"
    },
    "tags": []
   },
   "outputs": [
    {
     "name": "stdout",
     "output_type": "stream",
     "text": [
      "##################### Shape #####################\n",
      "(4323, 6)\n",
      "##################### Types #####################\n",
      "Rating                float64\n",
      "Timestamp              object\n",
      "Enrolled               object\n",
      "Progress              float64\n",
      "Questions Asked       float64\n",
      "Questions Answered    float64\n",
      "dtype: object\n",
      "##################### Head #####################\n",
      "   Rating            Timestamp             Enrolled  Progress  \\\n",
      "0 5.00000  2021-02-05 07:45:55  2021-01-25 15:12:08   5.00000   \n",
      "1 5.00000  2021-02-04 21:05:32  2021-02-04 20:43:40   1.00000   \n",
      "2 4.50000  2021-02-04 20:34:03  2019-07-04 23:23:27   1.00000   \n",
      "3 5.00000  2021-02-04 16:56:28  2021-02-04 14:41:29  10.00000   \n",
      "4 4.00000  2021-02-04 15:00:24  2020-10-13 03:10:07  10.00000   \n",
      "\n",
      "   Questions Asked  Questions Answered  \n",
      "0          0.00000             0.00000  \n",
      "1          0.00000             0.00000  \n",
      "2          0.00000             0.00000  \n",
      "3          0.00000             0.00000  \n",
      "4          0.00000             0.00000  \n",
      "##################### Tail #####################\n",
      "      Rating            Timestamp             Enrolled  Progress  \\\n",
      "4318 5.00000  2019-05-17 09:51:44  2019-05-17 09:08:53  34.00000   \n",
      "4319 5.00000  2019-05-16 21:27:05  2019-05-16 20:32:15   5.00000   \n",
      "4320 5.00000  2019-05-16 20:22:26  2019-05-16 20:21:19   1.00000   \n",
      "4321 5.00000  2019-05-16 19:49:07  2019-05-16 19:47:29   1.00000   \n",
      "4322 5.00000  2019-05-16 13:40:35  2019-05-15 14:10:24  56.00000   \n",
      "\n",
      "      Questions Asked  Questions Answered  \n",
      "4318          1.00000             0.00000  \n",
      "4319          0.00000             0.00000  \n",
      "4320          0.00000             0.00000  \n",
      "4321          0.00000             0.00000  \n",
      "4322          0.00000             0.00000  \n",
      "##################### NA #####################\n",
      "Rating                0\n",
      "Timestamp             0\n",
      "Enrolled              0\n",
      "Progress              0\n",
      "Questions Asked       0\n",
      "Questions Answered    0\n",
      "dtype: int64\n",
      "##################### Quantiles #####################\n",
      "                        count     mean      std     min      0%      5%  \\\n",
      "Rating             4323.00000  4.76428  0.51959 1.00000 1.00000 4.00000   \n",
      "Progress           4323.00000 27.19755 29.14214 0.00000 0.00000 1.00000   \n",
      "Questions Asked    4323.00000  0.22184  0.98956 0.00000 0.00000 0.00000   \n",
      "Questions Answered 4323.00000  0.33102  6.21055 0.00000 0.00000 0.00000   \n",
      "\n",
      "                        50%       95%       99%      100%       max  \n",
      "Rating              5.00000   5.00000   5.00000   5.00000   5.00000  \n",
      "Progress           15.00000 100.00000 100.00000 100.00000 100.00000  \n",
      "Questions Asked     0.00000   1.00000   4.00000  22.00000  22.00000  \n",
      "Questions Answered  0.00000   1.00000   5.00000 356.00000 356.00000  \n"
     ]
    }
   ],
   "source": [
    "# Preliminary examination of the data set\n",
    "\n",
    "def check_df(dataframe, head=5):\n",
    "    print('##################### Shape #####################')\n",
    "    print(dataframe.shape)\n",
    "    print('##################### Types #####################')\n",
    "    print(dataframe.dtypes)\n",
    "    print('##################### Head #####################')\n",
    "    print(dataframe.head(head))\n",
    "    print('##################### Tail #####################')\n",
    "    print(dataframe.tail(head))\n",
    "    print('##################### NA #####################')\n",
    "    print(dataframe.isnull().sum())\n",
    "    print('##################### Quantiles #####################')\n",
    "    print(dataframe.describe([0, 0.05, 0.50, 0.95, 0.99, 1]).T)\n",
    "\n",
    "check_df(df)"
   ]
  },
  {
   "cell_type": "code",
   "execution_count": 5,
   "id": "0b495ad1",
   "metadata": {
    "execution": {
     "iopub.execute_input": "2023-06-20T20:33:15.776776Z",
     "iopub.status.busy": "2023-06-20T20:33:15.776295Z",
     "iopub.status.idle": "2023-06-20T20:33:15.789757Z",
     "shell.execute_reply": "2023-06-20T20:33:15.788489Z"
    },
    "papermill": {
     "duration": 0.026357,
     "end_time": "2023-06-20T20:33:15.792499",
     "exception": false,
     "start_time": "2023-06-20T20:33:15.766142",
     "status": "completed"
    },
    "tags": []
   },
   "outputs": [
    {
     "data": {
      "text/plain": [
       "4.860491071428571"
      ]
     },
     "execution_count": 5,
     "metadata": {},
     "output_type": "execute_result"
    }
   ],
   "source": [
    "df[(df[\"Progress\"] > 75)][\"Rating\"].mean()"
   ]
  },
  {
   "cell_type": "code",
   "execution_count": 6,
   "id": "26e0d436",
   "metadata": {
    "execution": {
     "iopub.execute_input": "2023-06-20T20:33:15.812133Z",
     "iopub.status.busy": "2023-06-20T20:33:15.811741Z",
     "iopub.status.idle": "2023-06-20T20:33:15.819949Z",
     "shell.execute_reply": "2023-06-20T20:33:15.818857Z"
    },
    "papermill": {
     "duration": 0.021329,
     "end_time": "2023-06-20T20:33:15.822201",
     "exception": false,
     "start_time": "2023-06-20T20:33:15.800872",
     "status": "completed"
    },
    "tags": []
   },
   "outputs": [
    {
     "data": {
      "text/plain": [
       "4.7225029148853475"
      ]
     },
     "execution_count": 6,
     "metadata": {},
     "output_type": "execute_result"
    }
   ],
   "source": [
    "df[(df[\"Progress\"] < 25)][\"Rating\"].mean()"
   ]
  },
  {
   "cell_type": "code",
   "execution_count": 7,
   "id": "02cb5d0e",
   "metadata": {
    "execution": {
     "iopub.execute_input": "2023-06-20T20:33:15.841666Z",
     "iopub.status.busy": "2023-06-20T20:33:15.840960Z",
     "iopub.status.idle": "2023-06-20T20:33:15.845960Z",
     "shell.execute_reply": "2023-06-20T20:33:15.844553Z"
    },
    "papermill": {
     "duration": 0.018215,
     "end_time": "2023-06-20T20:33:15.848805",
     "exception": false,
     "start_time": "2023-06-20T20:33:15.830590",
     "status": "completed"
    },
    "tags": []
   },
   "outputs": [],
   "source": [
    "# There seems to be a mathematical difference between the two groups. But is this difference a chance occurrence or is it statistically significant?"
   ]
  },
  {
   "cell_type": "markdown",
   "id": "6f649b2c",
   "metadata": {
    "papermill": {
     "duration": 0.008475,
     "end_time": "2023-06-20T20:33:15.865755",
     "exception": false,
     "start_time": "2023-06-20T20:33:15.857280",
     "status": "completed"
    },
    "tags": []
   },
   "source": [
    "# 1. Establish the hypotheses\n",
    "\n",
    "- **H0: M1 = M2** (There is no statistically significant difference between the mean scores of those who watched most of the course and those who did not.)\n",
    "- **H1: M1! = M2** (There is a Statistically Significant Difference Between the Mean Scores of Those Who Followed the Majority of the Course and Those Who Did Not.)"
   ]
  },
  {
   "cell_type": "markdown",
   "id": "37048141",
   "metadata": {
    "papermill": {
     "duration": 0.008409,
     "end_time": "2023-06-20T20:33:15.883480",
     "exception": false,
     "start_time": "2023-06-20T20:33:15.875071",
     "status": "completed"
    },
    "tags": []
   },
   "source": [
    "# 2. Examine Assumptions¶"
   ]
  },
  {
   "cell_type": "markdown",
   "id": "9b8bee5d",
   "metadata": {
    "papermill": {
     "duration": 0.008185,
     "end_time": "2023-06-20T20:33:15.900091",
     "exception": false,
     "start_time": "2023-06-20T20:33:15.891906",
     "status": "completed"
    },
    "tags": []
   },
   "source": [
    "**Assumption of normality**\n",
    "\n",
    "- H0: The assumption of normal distribution is satisfied.\n",
    "- H1: Assumption of normal distribution is not satisfied"
   ]
  },
  {
   "cell_type": "code",
   "execution_count": 8,
   "id": "d29269bf",
   "metadata": {
    "execution": {
     "iopub.execute_input": "2023-06-20T20:33:15.919652Z",
     "iopub.status.busy": "2023-06-20T20:33:15.919238Z",
     "iopub.status.idle": "2023-06-20T20:33:15.923695Z",
     "shell.execute_reply": "2023-06-20T20:33:15.922510Z"
    },
    "papermill": {
     "duration": 0.017223,
     "end_time": "2023-06-20T20:33:15.926162",
     "exception": false,
     "start_time": "2023-06-20T20:33:15.908939",
     "status": "completed"
    },
    "tags": []
   },
   "outputs": [],
   "source": [
    "# H0 REJ if p-value < 0.05.\n",
    "# H0 CANNOT BE REJECTED if p-value < 0.05."
   ]
  },
  {
   "cell_type": "code",
   "execution_count": 9,
   "id": "a2c07d58",
   "metadata": {
    "execution": {
     "iopub.execute_input": "2023-06-20T20:33:15.945380Z",
     "iopub.status.busy": "2023-06-20T20:33:15.944621Z",
     "iopub.status.idle": "2023-06-20T20:33:15.950951Z",
     "shell.execute_reply": "2023-06-20T20:33:15.950154Z"
    },
    "papermill": {
     "duration": 0.018733,
     "end_time": "2023-06-20T20:33:15.953363",
     "exception": false,
     "start_time": "2023-06-20T20:33:15.934630",
     "status": "completed"
    },
    "tags": []
   },
   "outputs": [],
   "source": [
    "test_stat, pvalue = shapiro(df[(df[\"Progress\"] > 75)][\"Rating\"])"
   ]
  },
  {
   "cell_type": "code",
   "execution_count": 10,
   "id": "ffbe54f6",
   "metadata": {
    "execution": {
     "iopub.execute_input": "2023-06-20T20:33:15.972587Z",
     "iopub.status.busy": "2023-06-20T20:33:15.972178Z",
     "iopub.status.idle": "2023-06-20T20:33:15.978241Z",
     "shell.execute_reply": "2023-06-20T20:33:15.977003Z"
    },
    "papermill": {
     "duration": 0.019179,
     "end_time": "2023-06-20T20:33:15.981069",
     "exception": false,
     "start_time": "2023-06-20T20:33:15.961890",
     "status": "completed"
    },
    "tags": []
   },
   "outputs": [
    {
     "name": "stdout",
     "output_type": "stream",
     "text": [
      "Test Stat = 0.3160, p-value = 0.0000\n"
     ]
    }
   ],
   "source": [
    "print('Test Stat = %.4f, p-value = %.4f' % (test_stat, pvalue))"
   ]
  },
  {
   "cell_type": "code",
   "execution_count": 11,
   "id": "de3d73e2",
   "metadata": {
    "execution": {
     "iopub.execute_input": "2023-06-20T20:33:16.000856Z",
     "iopub.status.busy": "2023-06-20T20:33:16.000446Z",
     "iopub.status.idle": "2023-06-20T20:33:16.007781Z",
     "shell.execute_reply": "2023-06-20T20:33:16.006559Z"
    },
    "papermill": {
     "duration": 0.020126,
     "end_time": "2023-06-20T20:33:16.010298",
     "exception": false,
     "start_time": "2023-06-20T20:33:15.990172",
     "status": "completed"
    },
    "tags": []
   },
   "outputs": [],
   "source": [
    "test_stat, pvalue = shapiro(df[(df[\"Progress\"] < 25)][\"Rating\"])"
   ]
  },
  {
   "cell_type": "code",
   "execution_count": 12,
   "id": "dac6600b",
   "metadata": {
    "execution": {
     "iopub.execute_input": "2023-06-20T20:33:16.029627Z",
     "iopub.status.busy": "2023-06-20T20:33:16.028809Z",
     "iopub.status.idle": "2023-06-20T20:33:16.035150Z",
     "shell.execute_reply": "2023-06-20T20:33:16.033313Z"
    },
    "papermill": {
     "duration": 0.01878,
     "end_time": "2023-06-20T20:33:16.037591",
     "exception": false,
     "start_time": "2023-06-20T20:33:16.018811",
     "status": "completed"
    },
    "tags": []
   },
   "outputs": [
    {
     "name": "stdout",
     "output_type": "stream",
     "text": [
      "Test Stat = 0.5710, p-value = 0.0000\n"
     ]
    }
   ],
   "source": [
    "print('Test Stat = %.4f, p-value = %.4f' % (test_stat, pvalue))"
   ]
  },
  {
   "cell_type": "code",
   "execution_count": 13,
   "id": "40950796",
   "metadata": {
    "execution": {
     "iopub.execute_input": "2023-06-20T20:33:16.056487Z",
     "iopub.status.busy": "2023-06-20T20:33:16.056079Z",
     "iopub.status.idle": "2023-06-20T20:33:16.061160Z",
     "shell.execute_reply": "2023-06-20T20:33:16.059892Z"
    },
    "papermill": {
     "duration": 0.017487,
     "end_time": "2023-06-20T20:33:16.063712",
     "exception": false,
     "start_time": "2023-06-20T20:33:16.046225",
     "status": "completed"
    },
    "tags": []
   },
   "outputs": [],
   "source": [
    "# Since the p-value is less than 0.05, hypothesis H0 is rejected.\n",
    "# The assumption of normality is not met."
   ]
  },
  {
   "cell_type": "markdown",
   "id": "17757a58",
   "metadata": {
    "papermill": {
     "duration": 0.009115,
     "end_time": "2023-06-20T20:33:16.081809",
     "exception": false,
     "start_time": "2023-06-20T20:33:16.072694",
     "status": "completed"
    },
    "tags": []
   },
   "source": [
    "- **Non-parametric test is applied because normality assumption is not satisfied. mannwhitneyu test is applied.**\n",
    "- **Since the assumption of normality is not satisfied, we do not need to perform the homogeneity of variance test.**"
   ]
  },
  {
   "cell_type": "code",
   "execution_count": 14,
   "id": "5798eb1f",
   "metadata": {
    "execution": {
     "iopub.execute_input": "2023-06-20T20:33:16.102027Z",
     "iopub.status.busy": "2023-06-20T20:33:16.101605Z",
     "iopub.status.idle": "2023-06-20T20:33:16.106644Z",
     "shell.execute_reply": "2023-06-20T20:33:16.105452Z"
    },
    "papermill": {
     "duration": 0.01895,
     "end_time": "2023-06-20T20:33:16.109631",
     "exception": false,
     "start_time": "2023-06-20T20:33:16.090681",
     "status": "completed"
    },
    "tags": []
   },
   "outputs": [],
   "source": [
    "# Hipotez (H0: M1 = M2)"
   ]
  },
  {
   "cell_type": "code",
   "execution_count": 15,
   "id": "9180ece7",
   "metadata": {
    "execution": {
     "iopub.execute_input": "2023-06-20T20:33:16.130573Z",
     "iopub.status.busy": "2023-06-20T20:33:16.130098Z",
     "iopub.status.idle": "2023-06-20T20:33:16.148432Z",
     "shell.execute_reply": "2023-06-20T20:33:16.146645Z"
    },
    "papermill": {
     "duration": 0.032944,
     "end_time": "2023-06-20T20:33:16.151921",
     "exception": false,
     "start_time": "2023-06-20T20:33:16.118977",
     "status": "completed"
    },
    "tags": []
   },
   "outputs": [],
   "source": [
    "test_stat, pvalue = mannwhitneyu(df[(df[\"Progress\"] > 75)][\"Rating\"],\n",
    "                                 df[(df[\"Progress\"] < 25)][\"Rating\"])"
   ]
  },
  {
   "cell_type": "code",
   "execution_count": 16,
   "id": "f36ab854",
   "metadata": {
    "execution": {
     "iopub.execute_input": "2023-06-20T20:33:16.174074Z",
     "iopub.status.busy": "2023-06-20T20:33:16.173660Z",
     "iopub.status.idle": "2023-06-20T20:33:16.180050Z",
     "shell.execute_reply": "2023-06-20T20:33:16.178675Z"
    },
    "papermill": {
     "duration": 0.021705,
     "end_time": "2023-06-20T20:33:16.182668",
     "exception": false,
     "start_time": "2023-06-20T20:33:16.160963",
     "status": "completed"
    },
    "tags": []
   },
   "outputs": [
    {
     "name": "stdout",
     "output_type": "stream",
     "text": [
      "Test Stat = 661481.5000, p-value = 0.0000\n"
     ]
    }
   ],
   "source": [
    "print('Test Stat = %.4f, p-value = %.4f' % (test_stat, pvalue))"
   ]
  },
  {
   "cell_type": "code",
   "execution_count": 17,
   "id": "6c06479e",
   "metadata": {
    "execution": {
     "iopub.execute_input": "2023-06-20T20:33:16.202941Z",
     "iopub.status.busy": "2023-06-20T20:33:16.202540Z",
     "iopub.status.idle": "2023-06-20T20:33:16.207339Z",
     "shell.execute_reply": "2023-06-20T20:33:16.206186Z"
    },
    "papermill": {
     "duration": 0.017826,
     "end_time": "2023-06-20T20:33:16.209660",
     "exception": false,
     "start_time": "2023-06-20T20:33:16.191834",
     "status": "completed"
    },
    "tags": []
   },
   "outputs": [],
   "source": [
    "# H0 hypothesis is rejected.\n",
    "# There is a Statistically Significant Difference Between the Mean Scores of Those Who Followed the Majority of the Course and Those Who Did Not"
   ]
  }
 ],
 "metadata": {
  "kernelspec": {
   "display_name": "Python 3",
   "language": "python",
   "name": "python3"
  },
  "language_info": {
   "codemirror_mode": {
    "name": "ipython",
    "version": 3
   },
   "file_extension": ".py",
   "mimetype": "text/x-python",
   "name": "python",
   "nbconvert_exporter": "python",
   "pygments_lexer": "ipython3",
   "version": "3.10.10"
  },
  "papermill": {
   "default_parameters": {},
   "duration": 17.651404,
   "end_time": "2023-06-20T20:33:17.242741",
   "environment_variables": {},
   "exception": null,
   "input_path": "__notebook__.ipynb",
   "output_path": "__notebook__.ipynb",
   "parameters": {},
   "start_time": "2023-06-20T20:32:59.591337",
   "version": "2.4.0"
  }
 },
 "nbformat": 4,
 "nbformat_minor": 5
}
